{
  "nbformat": 4,
  "nbformat_minor": 0,
  "metadata": {
    "colab": {
      "name": "NER-TOKEN Streamlit-ngrok.ipynb",
      "provenance": [],
      "authorship_tag": "ABX9TyN+cT6l+xwzT5yCceY1tOty",
      "include_colab_link": true
    },
    "kernelspec": {
      "name": "python3",
      "display_name": "Python 3"
    }
  },
  "cells": [
    {
      "cell_type": "markdown",
      "metadata": {
        "id": "view-in-github",
        "colab_type": "text"
      },
      "source": [
        "<a href=\"https://colab.research.google.com/github/oshinanika/NLP-Token_NER_SpacyStreamlit/blob/master/NER_TOKEN_Streamlit_ngrok.ipynb\" target=\"_parent\"><img src=\"https://colab.research.google.com/assets/colab-badge.svg\" alt=\"Open In Colab\"/></a>"
      ]
    },
    {
      "cell_type": "markdown",
      "metadata": {
        "id": "ltJABK9dYCOC",
        "colab_type": "text"
      },
      "source": [
        "### Running Streamlit from Colab\n",
        "+ streamlit\n",
        "+ pyngrok\n",
        "+ nohub/background"
      ]
    },
    {
      "cell_type": "markdown",
      "metadata": {
        "id": "klvQRxdMwV8s",
        "colab_type": "text"
      },
      "source": [
        "###Save your file from PC to this colab"
      ]
    },
    {
      "cell_type": "markdown",
      "metadata": {
        "id": "vam3SbvWKtob",
        "colab_type": "text"
      },
      "source": [
        "### Spacy-Streamlit\n",
        "https://github.com/explosion/spacy-streamlit\n",
        "\n",
        "When you call nlp on a text, spaCy first tokenizes the text to produce a Doc object. The Doc is then processed in several different steps – this is also referred to as the processing pipeline. The pipeline used by the default models consists of a tagger, a parser and an entity recognizer. Each pipeline component returns the processed Doc, which is then passed on to the next component."
      ]
    },
    {
      "cell_type": "markdown",
      "metadata": {
        "id": "0ahprf8IjdE4",
        "colab_type": "text"
      },
      "source": [
        "### Viualize_tokens \n",
        "https://spacy.io/api/token#attributes\n",
        "  + idx = The character offset of the token within the parent document.(index of the start character of the word)\n",
        "  + text = Verbatim text content.\n",
        "  + lemma_ = Base form of the token, with no inflectional suffixes.\n",
        "  + pos_ = Coarse-grained part-of-speech from the Universal POS tag set.(https://universaldependencies.org/docs/u/pos/) ->Noun, verb, adjective, ...\n",
        "  + tag_ = Fine-grained part-of-speech(https://github.com/explosion/spaCy/blob/master/spacy/lang/en/tag_map.py).->verb-past, verb-present-3rd, verb-base, ... etc.\n",
        "  + dep_ = Syntactic dependency relation.\n",
        "  + head = The syntactic parent, or “governor”, of this token.\n",
        "  + ent_type_ = Named entity type.\n",
        "  + ent_iob_ = IOB code of named entity tag. “B” means the token begins an entity, “I” means it is inside an entity, “O” means it is outside an entity, and \"\" means no entity tag is set.\n",
        "  + shape_ = Transform of the tokens’s string, to show orthographic features. Alphabetic characters are replaced by x or X, and numeric characters are replaced by d, and sequences of the same character are truncated after length 4. For example,\"Xxxx\"or\"dd\".\n",
        "  + is_alpha, is_digit, is_ascii, is_punct, \n",
        "  + like_num  = Does the token represent a number? e.g. “10.9”, “10”, “ten”, etc."
      ]
    },
    {
      "cell_type": "markdown",
      "metadata": {
        "id": "sJy84QvoGHlh",
        "colab_type": "text"
      },
      "source": [
        "### Visualize_ner\n",
        "https://spacy.io/usage/processing-pipelines"
      ]
    },
    {
      "cell_type": "code",
      "metadata": {
        "id": "wMNVY_p8whEB",
        "colab_type": "code",
        "colab": {
          "base_uri": "https://localhost:8080/",
          "height": 34
        },
        "outputId": "6b897e63-3883-461c-e2c0-bab45a882a8d"
      },
      "source": [
        "%%writefile app.py\n",
        "#Core packages\n",
        "import streamlit as st\n",
        "\n",
        "#NLP Packages\n",
        "import spacy_streamlit as ss\n",
        "import spacy\n",
        "from spacy import displacy\n",
        "nlp = spacy.load('en')\n",
        "nlp2 = spacy.load(\"en_core_web_sm\")\n",
        "\n",
        "PAGE_CONFIG = {\"page_title\":\"FirstNLPApp.io\",\"page_icon\":\":smiley:\",\"layout\":\"centered\"}\n",
        "st.beta_set_page_config(**PAGE_CONFIG)\n",
        "\n",
        "\n",
        "def main():\n",
        "\t\"NLP App with Streamlit\"\n",
        "\tst.title(\"NLP App\")\n",
        "\tmenu = [\"Home\", \"Tokens\", \"NER\", \"Query\"]\n",
        "\tchoice = st.sidebar.selectbox(\"Menu\", menu)\n",
        "\n",
        "\tif choice == \"Home\":\n",
        "\t\tst.subheader(\"Visualizer\")\n",
        "\t\traw_text = st.text_area(\"Enter text here\")\n",
        "\t\tdocx = nlp(raw_text)\n",
        "\t\tif st.button(\"Visualize\"):\n",
        "\t\t\tss.visualize_parser(docx)\n",
        "\t \n",
        "\telif choice == \"Tokens\":\n",
        "\t\tst.subheader(\"Tokenizer\")\n",
        "\t\traw_text = st.text_area(\"Your Text\", \"Enter text here\")\n",
        "\t\tdocx = nlp(raw_text)\n",
        "\t\tif st.button(\"Tokenize\"):\n",
        "\t\t\tss.visualize_tokens(docx, attrs=['idx', 'text', 'pos_', 'lemma_', 'like_num'] )\n",
        "\t \n",
        "\n",
        "\telif choice == \"NER\":\n",
        "\t\tst.subheader(\"Named Entity Recognizer\")\n",
        "\t\traw_text = st.text_area(\"Enter Text\")\n",
        "\t\tdocx = nlp(raw_text)\n",
        "\t\tif st.button(\"Named Entity Recognizer\"):\n",
        "\t\t\tss.visualize_ner(docx, labels=nlp.get_pipe('ner').labels)\n",
        "\t \n",
        "\telif choice == \"Query\":\n",
        "\t\tst.subheader(\"Query on Spacy\")\n",
        "\t\traw_text = st.text_area(\"Enter Text\")\n",
        "\t\tdocx = nlp(raw_text)\n",
        "\t\tif st.button(\"Exlain\"):\n",
        "\t\t\tst.write(docx)\n",
        "\n",
        "\n",
        "if __name__ == '__main__':\n",
        "\tmain()"
      ],
      "execution_count": 84,
      "outputs": [
        {
          "output_type": "stream",
          "text": [
            "Overwriting app.py\n"
          ],
          "name": "stdout"
        }
      ]
    },
    {
      "cell_type": "code",
      "metadata": {
        "id": "nc8zGEisw7id",
        "colab_type": "code",
        "colab": {
          "base_uri": "https://localhost:8080/",
          "height": 34
        },
        "outputId": "33719ca3-9d85-48d0-ccf4-c9db3f77c352"
      },
      "source": [
        "#check if file is saved\n",
        "\n",
        "!ls"
      ],
      "execution_count": 29,
      "outputs": [
        {
          "output_type": "stream",
          "text": [
            "app.py\tsample_data\n"
          ],
          "name": "stdout"
        }
      ]
    },
    {
      "cell_type": "markdown",
      "metadata": {
        "id": "8HYywymfwIX-",
        "colab_type": "text"
      },
      "source": [
        "### Install Streamlit & Pyngrok"
      ]
    },
    {
      "cell_type": "code",
      "metadata": {
        "id": "ZQXHyM8jEsST",
        "colab_type": "code",
        "colab": {}
      },
      "source": [
        "!pip install spacy-streamlit"
      ],
      "execution_count": null,
      "outputs": []
    },
    {
      "cell_type": "code",
      "metadata": {
        "id": "5agYNCN1FCbK",
        "colab_type": "code",
        "colab": {}
      },
      "source": [
        "!python3 -m spacy download en"
      ],
      "execution_count": null,
      "outputs": []
    },
    {
      "cell_type": "code",
      "metadata": {
        "id": "LImnZcnZYYz1",
        "colab_type": "code",
        "colab": {}
      },
      "source": [
        "!pip install spacy"
      ],
      "execution_count": null,
      "outputs": []
    },
    {
      "cell_type": "code",
      "metadata": {
        "id": "XlMrD5XjY3qo",
        "colab_type": "code",
        "colab": {}
      },
      "source": [
        "!pip install pyngrok"
      ],
      "execution_count": null,
      "outputs": []
    },
    {
      "cell_type": "markdown",
      "metadata": {
        "id": "Ryu_lEdExJUN",
        "colab_type": "text"
      },
      "source": [
        "### Authenticate ngrok from your profile dashboard on their website"
      ]
    },
    {
      "cell_type": "code",
      "metadata": {
        "id": "vlL43NN2ZxuP",
        "colab_type": "code",
        "colab": {}
      },
      "source": [
        "!ngrok authtoken 1gm5MYwqFcrdsxNCRF3iHQ6EDwb_5oKiuXw8nAXctfQc5zwm3"
      ],
      "execution_count": null,
      "outputs": []
    },
    {
      "cell_type": "code",
      "metadata": {
        "id": "_HNqdzZCtmc2",
        "colab_type": "code",
        "colab": {}
      },
      "source": [
        "!ngrok"
      ],
      "execution_count": null,
      "outputs": []
    },
    {
      "cell_type": "markdown",
      "metadata": {
        "id": "t4u15uoQum_M",
        "colab_type": "text"
      },
      "source": [
        "### Run Streamlit by any one method from below"
      ]
    },
    {
      "cell_type": "code",
      "metadata": {
        "id": "1D99gdu1t9_F",
        "colab_type": "code",
        "colab": {}
      },
      "source": [
        "#This will make the app run in background while you update\n",
        "\n",
        "#!nohup streamlit run app.py\n",
        "\n",
        "!streamlit run app.py&>/dev/null&"
      ],
      "execution_count": 32,
      "outputs": []
    },
    {
      "cell_type": "markdown",
      "metadata": {
        "id": "QyNLn_Vbu2O9",
        "colab_type": "text"
      },
      "source": [
        "### Check if Streamlit is running"
      ]
    },
    {
      "cell_type": "code",
      "metadata": {
        "id": "a2_aZ9Ntu112",
        "colab_type": "code",
        "colab": {}
      },
      "source": [
        "!pgrep streamlit"
      ],
      "execution_count": null,
      "outputs": []
    },
    {
      "cell_type": "markdown",
      "metadata": {
        "id": "QyAY5GLJX_yX",
        "colab_type": "text"
      },
      "source": [
        "### Public URL for our App"
      ]
    },
    {
      "cell_type": "code",
      "metadata": {
        "id": "ll1rYCTfx7RV",
        "colab_type": "code",
        "colab": {}
      },
      "source": [
        "from pyngrok import ngrok"
      ],
      "execution_count": 34,
      "outputs": []
    },
    {
      "cell_type": "code",
      "metadata": {
        "id": "dv7FzAZevVPU",
        "colab_type": "code",
        "colab": {}
      },
      "source": [
        "publ_url = ngrok.connect(port='8501')"
      ],
      "execution_count": 35,
      "outputs": []
    },
    {
      "cell_type": "code",
      "metadata": {
        "id": "fSoyMTBBvrtN",
        "colab_type": "code",
        "colab": {
          "base_uri": "https://localhost:8080/",
          "height": 35
        },
        "outputId": "22c575d8-ff8f-4098-8f08-f722bbe689d6"
      },
      "source": [
        "publ_url"
      ],
      "execution_count": 36,
      "outputs": [
        {
          "output_type": "execute_result",
          "data": {
            "application/vnd.google.colaboratory.intrinsic+json": {
              "type": "string"
            },
            "text/plain": [
              "'http://a98f885f9d71.ngrok.io'"
            ]
          },
          "metadata": {
            "tags": []
          },
          "execution_count": 36
        }
      ]
    },
    {
      "cell_type": "markdown",
      "metadata": {
        "id": "O2k9Vd-Qvzi4",
        "colab_type": "text"
      },
      "source": [
        "### Kill this tunnel\n",
        "(must be killed in this same colab notebook)"
      ]
    },
    {
      "cell_type": "code",
      "metadata": {
        "id": "ckdKtRjtv3yg",
        "colab_type": "code",
        "colab": {}
      },
      "source": [
        "ngrok.kill()"
      ],
      "execution_count": 27,
      "outputs": []
    }
  ]
}